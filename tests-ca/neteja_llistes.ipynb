{
 "cells": [
  {
   "cell_type": "code",
   "execution_count": 1,
   "metadata": {},
   "outputs": [],
   "source": [
    "import hunspell\n",
    "dic = hunspell.HunSpell('/usr/share/hunspell/ca.dic', '/usr/share/hunspell/ca.aff')"
   ]
  },
  {
   "cell_type": "code",
   "execution_count": 2,
   "metadata": {},
   "outputs": [
    {
     "data": {
      "text/plain": [
       "True"
      ]
     },
     "execution_count": 2,
     "metadata": {},
     "output_type": "execute_result"
    }
   ],
   "source": [
    "dic.spell(\"hola\")"
   ]
  },
  {
   "cell_type": "code",
   "execution_count": 4,
   "metadata": {},
   "outputs": [],
   "source": [
    "import pandas as pd"
   ]
  },
  {
   "cell_type": "code",
   "execution_count": 10,
   "metadata": {},
   "outputs": [],
   "source": [
    "myfile = '/tmp/brosseta2.tsv'"
   ]
  },
  {
   "cell_type": "code",
   "execution_count": 11,
   "metadata": {},
   "outputs": [],
   "source": [
    "df = pd.read_csv(myfile, sep=\"\\t\")"
   ]
  },
  {
   "cell_type": "code",
   "execution_count": 12,
   "metadata": {},
   "outputs": [],
   "source": [
    "lines = open(myfile, \"r\").read().splitlines()"
   ]
  },
  {
   "cell_type": "code",
   "execution_count": 16,
   "metadata": {},
   "outputs": [],
   "source": [
    "good_lines = []\n",
    "bad_lines = []\n",
    "for line in lines:\n",
    "    a = dic.spell(line.split(\"\\t\")[0])\n",
    "    if a == False:\n",
    "        bad_lines.append(line)\n",
    "    else:\n",
    "        good_lines.append(line)"
   ]
  },
  {
   "cell_type": "code",
   "execution_count": 18,
   "metadata": {},
   "outputs": [],
   "source": [
    "def create_file(myfile, mylist):\n",
    "        \n",
    "        newfile = open(myfile, \"w\")\n",
    "        \n",
    "        for frase in mylist:\n",
    "            newfile.writelines(frase+\"\\n\")\n",
    "        newfile.close()"
   ]
  },
  {
   "cell_type": "code",
   "execution_count": 20,
   "metadata": {},
   "outputs": [],
   "source": [
    "create_file(\"/tmp/dolentes.txt\", bad_lines)"
   ]
  }
 ],
 "metadata": {
  "kernelspec": {
   "display_name": "env_spacy",
   "language": "python",
   "name": "python3"
  },
  "language_info": {
   "codemirror_mode": {
    "name": "ipython",
    "version": 3
   },
   "file_extension": ".py",
   "mimetype": "text/x-python",
   "name": "python",
   "nbconvert_exporter": "python",
   "pygments_lexer": "ipython3",
   "version": "3.8.0 (default, Nov  6 2019, 21:49:08) \n[GCC 7.3.0]"
  },
  "orig_nbformat": 4,
  "vscode": {
   "interpreter": {
    "hash": "42615a88dd7366790cd2e86252b7cb17d4714cb98b2651e8d54972607e099fbf"
   }
  }
 },
 "nbformat": 4,
 "nbformat_minor": 2
}
