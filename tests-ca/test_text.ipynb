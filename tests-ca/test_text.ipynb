{
 "cells": [
  {
   "cell_type": "code",
   "execution_count": 15,
   "metadata": {},
   "outputs": [],
   "source": [
    "import pandas as pd"
   ]
  },
  {
   "cell_type": "code",
   "execution_count": 2,
   "metadata": {},
   "outputs": [],
   "source": [
    "file = \"data/text.txt\"\n",
    "text = open(file, \"r\").read()\n",
    "text_words = text.split()"
   ]
  },
  {
   "cell_type": "code",
   "execution_count": 7,
   "metadata": {},
   "outputs": [],
   "source": [
    "def transcript(src_text):\n",
    "    cmd = f'../src/espeak-ng \"{src_text}\" --ipa -v ca -q'\n",
    "    output = str(os.popen(cmd).read())[:-1]\n",
    "    output = output.replace(\"ɡ\", \"g\")\n",
    "    return output"
   ]
  },
  {
   "cell_type": "code",
   "execution_count": 8,
   "metadata": {},
   "outputs": [],
   "source": [
    "transcription = transcript(text)\n",
    "transcript_words = transcription.split()"
   ]
  },
  {
   "cell_type": "code",
   "execution_count": 11,
   "metadata": {},
   "outputs": [
    {
     "name": "stdout",
     "output_type": "stream",
     "text": [
      "277\n"
     ]
    },
    {
     "data": {
      "text/plain": [
       "283"
      ]
     },
     "execution_count": 11,
     "metadata": {},
     "output_type": "execute_result"
    }
   ],
   "source": [
    "print(len(text_words))\n",
    "len(transcript_words)"
   ]
  },
  {
   "cell_type": "code",
   "execution_count": 26,
   "metadata": {},
   "outputs": [],
   "source": [
    "test_file = \"data/text_transtext_out.txt\"\n",
    "test_text = open(test_file, \"r\").read()\n",
    "test_words = test_text.split()"
   ]
  },
  {
   "cell_type": "code",
   "execution_count": 28,
   "metadata": {},
   "outputs": [
    {
     "data": {
      "text/html": [
       "<div>\n",
       "<style scoped>\n",
       "    .dataframe tbody tr th:only-of-type {\n",
       "        vertical-align: middle;\n",
       "    }\n",
       "\n",
       "    .dataframe tbody tr th {\n",
       "        vertical-align: top;\n",
       "    }\n",
       "\n",
       "    .dataframe thead th {\n",
       "        text-align: right;\n",
       "    }\n",
       "</style>\n",
       "<table border=\"1\" class=\"dataframe\">\n",
       "  <thead>\n",
       "    <tr style=\"text-align: right;\">\n",
       "      <th></th>\n",
       "      <th>0</th>\n",
       "      <th>1</th>\n",
       "      <th>2</th>\n",
       "    </tr>\n",
       "  </thead>\n",
       "  <tbody>\n",
       "    <tr>\n",
       "      <th>0</th>\n",
       "      <td>Entre</td>\n",
       "      <td>ˈen.tɾə</td>\n",
       "      <td>ˈɛntɾə</td>\n",
       "    </tr>\n",
       "    <tr>\n",
       "      <th>1</th>\n",
       "      <td>les</td>\n",
       "      <td>ləz</td>\n",
       "      <td>ləz</td>\n",
       "    </tr>\n",
       "    <tr>\n",
       "      <th>2</th>\n",
       "      <td>més</td>\n",
       "      <td>mˈes</td>\n",
       "      <td>mˈez</td>\n",
       "    </tr>\n",
       "    <tr>\n",
       "      <th>3</th>\n",
       "      <td>de</td>\n",
       "      <td>tə</td>\n",
       "      <td>ðə</td>\n",
       "    </tr>\n",
       "    <tr>\n",
       "      <th>4</th>\n",
       "      <td>sis</td>\n",
       "      <td>sˌiz</td>\n",
       "      <td>sˈiz</td>\n",
       "    </tr>\n",
       "    <tr>\n",
       "      <th>...</th>\n",
       "      <td>...</td>\n",
       "      <td>...</td>\n",
       "      <td>...</td>\n",
       "    </tr>\n",
       "    <tr>\n",
       "      <th>284</th>\n",
       "      <td>None</td>\n",
       "      <td>lə</td>\n",
       "      <td>None</td>\n",
       "    </tr>\n",
       "    <tr>\n",
       "      <th>285</th>\n",
       "      <td>None</td>\n",
       "      <td>im.puɾ.tˈan.si.ə</td>\n",
       "      <td>None</td>\n",
       "    </tr>\n",
       "    <tr>\n",
       "      <th>286</th>\n",
       "      <td>None</td>\n",
       "      <td>i</td>\n",
       "      <td>None</td>\n",
       "    </tr>\n",
       "    <tr>\n",
       "      <th>287</th>\n",
       "      <td>None</td>\n",
       "      <td>əl</td>\n",
       "      <td>None</td>\n",
       "    </tr>\n",
       "    <tr>\n",
       "      <th>288</th>\n",
       "      <td>None</td>\n",
       "      <td>tə.zəm.bu.lu.pə.mˈen</td>\n",
       "      <td>None</td>\n",
       "    </tr>\n",
       "  </tbody>\n",
       "</table>\n",
       "<p>289 rows × 3 columns</p>\n",
       "</div>"
      ],
      "text/plain": [
       "         0                     1       2\n",
       "0    Entre               ˈen.tɾə  ˈɛntɾə\n",
       "1      les                   ləz     ləz\n",
       "2      més                  mˈes    mˈez\n",
       "3       de                    tə      ðə\n",
       "4      sis                  sˌiz    sˈiz\n",
       "..     ...                   ...     ...\n",
       "284   None                    lə    None\n",
       "285   None      im.puɾ.tˈan.si.ə    None\n",
       "286   None                     i    None\n",
       "287   None                    əl    None\n",
       "288   None  tə.zəm.bu.lu.pə.mˈen    None\n",
       "\n",
       "[289 rows x 3 columns]"
      ]
     },
     "execution_count": 28,
     "metadata": {},
     "output_type": "execute_result"
    }
   ],
   "source": [
    "df = pd.DataFrame([text_words, test_words, transcript_words]).T.rename(columns={\"0\": \"text\", \"1\": \"ref\", \"2\": \"espeak\"})\n",
    "\n",
    "df"
   ]
  },
  {
   "cell_type": "code",
   "execution_count": null,
   "metadata": {},
   "outputs": [],
   "source": [
    "df[\"eval\"].value_counts(normalize=True)"
   ]
  }
 ],
 "metadata": {
  "kernelspec": {
   "display_name": "venv",
   "language": "python",
   "name": "python3"
  },
  "language_info": {
   "codemirror_mode": {
    "name": "ipython",
    "version": 3
   },
   "file_extension": ".py",
   "mimetype": "text/x-python",
   "name": "python",
   "nbconvert_exporter": "python",
   "pygments_lexer": "ipython3",
   "version": "3.8.0 (default, Nov  6 2019, 21:49:08) \n[GCC 7.3.0]"
  },
  "orig_nbformat": 4,
  "vscode": {
   "interpreter": {
    "hash": "b1763b28dc341e5b0f391f7ef801fe4af5fea8787db8be16aa6fc0cd3d82a455"
   }
  }
 },
 "nbformat": 4,
 "nbformat_minor": 2
}
