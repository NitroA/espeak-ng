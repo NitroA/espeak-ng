{
 "cells": [
  {
   "cell_type": "code",
   "execution_count": 1,
   "metadata": {},
   "outputs": [],
   "source": [
    "import pandas as pd\n",
    "import re"
   ]
  },
  {
   "cell_type": "code",
   "execution_count": 2,
   "metadata": {},
   "outputs": [],
   "source": [
    "file = \"data/text.txt\"\n",
    "text = open(file, \"r\").read()"
   ]
  },
  {
   "cell_type": "code",
   "execution_count": 3,
   "metadata": {},
   "outputs": [],
   "source": [
    "def transcript(src_text):\n",
    "    cmd = f'../src/espeak-ng \"{src_text}\" --ipa -v ca -q'\n",
    "    output = str(os.popen(cmd).read())[:-1]\n",
    "    output = output.replace(\"ɡ\", \"g\")\n",
    "    return output"
   ]
  },
  {
   "cell_type": "code",
   "execution_count": 4,
   "metadata": {},
   "outputs": [],
   "source": [
    "transcription = transcript(text)\n",
    "transcript_words = re.split('\\W+', transcription)"
   ]
  },
  {
   "cell_type": "code",
   "execution_count": 5,
   "metadata": {},
   "outputs": [],
   "source": [
    "df = pd.read_csv('data/text_gs.csv', sep=\"\\t\")"
   ]
  },
  {
   "cell_type": "code",
   "execution_count": 6,
   "metadata": {},
   "outputs": [],
   "source": [
    "df[\"transcription\"] = transcript_words[:len(df)]"
   ]
  },
  {
   "cell_type": "code",
   "execution_count": 7,
   "metadata": {},
   "outputs": [],
   "source": [
    "df[\"eval\"] = df[\"GS\"] == df[\"transcription\"]"
   ]
  },
  {
   "cell_type": "code",
   "execution_count": 8,
   "metadata": {},
   "outputs": [
    {
     "data": {
      "text/html": [
       "<div>\n",
       "<style scoped>\n",
       "    .dataframe tbody tr th:only-of-type {\n",
       "        vertical-align: middle;\n",
       "    }\n",
       "\n",
       "    .dataframe tbody tr th {\n",
       "        vertical-align: top;\n",
       "    }\n",
       "\n",
       "    .dataframe thead th {\n",
       "        text-align: right;\n",
       "    }\n",
       "</style>\n",
       "<table border=\"1\" class=\"dataframe\">\n",
       "  <thead>\n",
       "    <tr style=\"text-align: right;\">\n",
       "      <th></th>\n",
       "      <th>text</th>\n",
       "      <th>GS</th>\n",
       "      <th>transcription</th>\n",
       "      <th>eval</th>\n",
       "    </tr>\n",
       "  </thead>\n",
       "  <tbody>\n",
       "    <tr>\n",
       "      <th>22</th>\n",
       "      <td>una</td>\n",
       "      <td>ˈunə</td>\n",
       "      <td>ˈuna</td>\n",
       "      <td>False</td>\n",
       "    </tr>\n",
       "    <tr>\n",
       "      <th>101</th>\n",
       "      <td>una</td>\n",
       "      <td>ˈunə</td>\n",
       "      <td>ˈuna</td>\n",
       "      <td>False</td>\n",
       "    </tr>\n",
       "    <tr>\n",
       "      <th>106</th>\n",
       "      <td>NaN</td>\n",
       "      <td>komasˈɛtsˈenz</td>\n",
       "      <td>komasˌɛtsˌenz</td>\n",
       "      <td>False</td>\n",
       "    </tr>\n",
       "    <tr>\n",
       "      <th>107</th>\n",
       "      <td>NaN</td>\n",
       "      <td>βˌintinˈɔw</td>\n",
       "      <td>βˌintinˌɔw</td>\n",
       "      <td>False</td>\n",
       "    </tr>\n",
       "    <tr>\n",
       "      <th>139</th>\n",
       "      <td>amunt</td>\n",
       "      <td>əmˈun</td>\n",
       "      <td>əmˈuŋ</td>\n",
       "      <td>False</td>\n",
       "    </tr>\n",
       "    <tr>\n",
       "      <th>150</th>\n",
       "      <td>NaN</td>\n",
       "      <td>komasˈiŋksˈens</td>\n",
       "      <td>komasˌiŋksˌens</td>\n",
       "      <td>False</td>\n",
       "    </tr>\n",
       "    <tr>\n",
       "      <th>151</th>\n",
       "      <td>NaN</td>\n",
       "      <td>siŋkwˈantə</td>\n",
       "      <td>siŋkwˌantə</td>\n",
       "      <td>False</td>\n",
       "    </tr>\n",
       "    <tr>\n",
       "      <th>156</th>\n",
       "      <td>NaN</td>\n",
       "      <td>komakwˈatɾəsˈens</td>\n",
       "      <td>komasˌens</td>\n",
       "      <td>False</td>\n",
       "    </tr>\n",
       "    <tr>\n",
       "      <th>157</th>\n",
       "      <td>NaN</td>\n",
       "      <td>səʃˌantəðˈos</td>\n",
       "      <td>səʃˌantəðˌos</td>\n",
       "      <td>False</td>\n",
       "    </tr>\n",
       "    <tr>\n",
       "      <th>176</th>\n",
       "      <td>nostra</td>\n",
       "      <td>nˈɔstɾə</td>\n",
       "      <td>nˈɔstɾa</td>\n",
       "      <td>False</td>\n",
       "    </tr>\n",
       "    <tr>\n",
       "      <th>184</th>\n",
       "      <td>Una</td>\n",
       "      <td>ˈunə</td>\n",
       "      <td>ˈuna</td>\n",
       "      <td>False</td>\n",
       "    </tr>\n",
       "    <tr>\n",
       "      <th>206</th>\n",
       "      <td>una</td>\n",
       "      <td>ˈunə</td>\n",
       "      <td>ˈuna</td>\n",
       "      <td>False</td>\n",
       "    </tr>\n",
       "    <tr>\n",
       "      <th>213</th>\n",
       "      <td>una</td>\n",
       "      <td>ˈunə</td>\n",
       "      <td>ˈuna</td>\n",
       "      <td>False</td>\n",
       "    </tr>\n",
       "    <tr>\n",
       "      <th>232</th>\n",
       "      <td>una</td>\n",
       "      <td>ˈunə</td>\n",
       "      <td>ˈuna</td>\n",
       "      <td>False</td>\n",
       "    </tr>\n",
       "    <tr>\n",
       "      <th>265</th>\n",
       "      <td>una</td>\n",
       "      <td>ˈunə</td>\n",
       "      <td>ˈuna</td>\n",
       "      <td>False</td>\n",
       "    </tr>\n",
       "  </tbody>\n",
       "</table>\n",
       "</div>"
      ],
      "text/plain": [
       "       text                GS   transcription   eval\n",
       "22      una              ˈunə            ˈuna  False\n",
       "101     una              ˈunə            ˈuna  False\n",
       "106     NaN     komasˈɛtsˈenz   komasˌɛtsˌenz  False\n",
       "107     NaN        βˌintinˈɔw      βˌintinˌɔw  False\n",
       "139   amunt             əmˈun           əmˈuŋ  False\n",
       "150     NaN    komasˈiŋksˈens  komasˌiŋksˌens  False\n",
       "151     NaN        siŋkwˈantə      siŋkwˌantə  False\n",
       "156     NaN  komakwˈatɾəsˈens       komasˌens  False\n",
       "157     NaN      səʃˌantəðˈos    səʃˌantəðˌos  False\n",
       "176  nostra           nˈɔstɾə         nˈɔstɾa  False\n",
       "184     Una              ˈunə            ˈuna  False\n",
       "206     una              ˈunə            ˈuna  False\n",
       "213     una              ˈunə            ˈuna  False\n",
       "232     una              ˈunə            ˈuna  False\n",
       "265     una              ˈunə            ˈuna  False"
      ]
     },
     "execution_count": 8,
     "metadata": {},
     "output_type": "execute_result"
    }
   ],
   "source": [
    "df.loc[df['eval'] == False]"
   ]
  },
  {
   "cell_type": "code",
   "execution_count": 9,
   "metadata": {},
   "outputs": [],
   "source": [
    "df.to_csv(\"/tmp/merdeta.csv\", sep=\"\\t\")"
   ]
  }
 ],
 "metadata": {
  "kernelspec": {
   "display_name": "venv",
   "language": "python",
   "name": "python3"
  },
  "language_info": {
   "codemirror_mode": {
    "name": "ipython",
    "version": 3
   },
   "file_extension": ".py",
   "mimetype": "text/x-python",
   "name": "python",
   "nbconvert_exporter": "python",
   "pygments_lexer": "ipython3",
   "version": "3.8.0"
  },
  "orig_nbformat": 4,
  "vscode": {
   "interpreter": {
    "hash": "b1763b28dc341e5b0f391f7ef801fe4af5fea8787db8be16aa6fc0cd3d82a455"
   }
  }
 },
 "nbformat": 4,
 "nbformat_minor": 2
}
